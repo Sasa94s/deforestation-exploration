{
 "cells": [
  {
   "cell_type": "markdown",
   "metadata": {
    "collapsed": true,
    "pycharm": {
     "name": "#%% md\n"
    }
   },
   "source": [
    "# Report for ForestQuery into Global Deforestation, 1990 to 2016\n",
    "\n",
    "ForestQuery is on a mission to combat deforestation around the world and to raise awareness about this topic and its impact on the environment. The data analysis team at ForestQuery has obtained data from the World Bank that includes forest area and total land area by country and year from 1990 to 2016, as well as a table of countries and the regions to which they belong.\n",
    "\n",
    "The data analysis team has used SQL to bring these tables together and to query them in an effort to find areas of concern as well as areas that present an opportunity to learn from successes."
   ]
  },
  {
   "cell_type": "markdown",
   "source": [
    "## Setting Up Database Connection"
   ],
   "metadata": {
    "collapsed": false
   }
  },
  {
   "cell_type": "code",
   "execution_count": 1,
   "outputs": [
    {
     "data": {
      "application/javascript": "\n    require(['notebook/js/codecell'], function(codecell) {\n      // https://github.com/jupyter/notebook/issues/2453\n      codecell.CodeCell.options_default.highlight_modes['magic_text/x-sql'] = {'reg':[/^%read_sql/, /.*=\\s*%read_sql/,\n                                                                                      /^%%read_sql/]};\n      Jupyter.notebook.events.one('kernel_ready.Kernel', function(){\n          console.log('BBBBB');\n          Jupyter.notebook.get_cells().map(function(cell){\n              if (cell.cell_type == 'code'){ cell.auto_highlight(); } }) ;\n      });\n    });\n    "
     },
     "metadata": {},
     "output_type": "display_data"
    }
   ],
   "source": [
    "import psycopg2\n",
    "fq_conn = psycopg2.connect(\"dbname=forest_query\")\n",
    "\n",
    "%load_ext sql_magic\n",
    "%config SQL.conn_name = 'fq_conn'"
   ],
   "metadata": {
    "collapsed": false,
    "pycharm": {
     "name": "#%%\n"
    }
   }
  },
  {
   "cell_type": "markdown",
   "source": [
    "## Global Situation\n",
    "\n",
    "1. What was the total forest area (in sq km) of the world in 1990?\n",
    "2. What was the total forest area (in sq km) of the world in 2016?\n",
    "3. What was the change (in sq km) in the forest area of the world from 1990 to 2016?\n",
    "4. What was the percent change in forest area of the world between 1990 and 2016?\n",
    "5. If you compare the amount of forest area lost between 1990 and 2016, to which country's total area in 2016 is it closest to?"
   ],
   "metadata": {
    "collapsed": false
   }
  },
  {
   "cell_type": "markdown",
   "source": [
    "### 1. World Total Forest Area (sq. km) in 1990"
   ],
   "metadata": {
    "collapsed": false
   }
  },
  {
   "cell_type": "code",
   "execution_count": 2,
   "outputs": [
    {
     "name": "stdout",
     "output_type": "stream",
     "text": [
      "Query started at 04:35:56 AM EET; Query executed in 0.00 m"
     ]
    },
    {
     "data": {
      "text/plain": "   forest_area_sqkm\n0        41282694.9",
      "text/html": "<div>\n<style scoped>\n    .dataframe tbody tr th:only-of-type {\n        vertical-align: middle;\n    }\n\n    .dataframe tbody tr th {\n        vertical-align: top;\n    }\n\n    .dataframe thead th {\n        text-align: right;\n    }\n</style>\n<table border=\"1\" class=\"dataframe\">\n  <thead>\n    <tr style=\"text-align: right;\">\n      <th></th>\n      <th>forest_area_sqkm</th>\n    </tr>\n  </thead>\n  <tbody>\n    <tr>\n      <th>0</th>\n      <td>41282694.9</td>\n    </tr>\n  </tbody>\n</table>\n</div>"
     },
     "execution_count": 2,
     "metadata": {},
     "output_type": "execute_result"
    }
   ],
   "source": [
    "%%read_sql\n",
    "SELECT forest_area_sqkm\n",
    "FROM forestation\n",
    "WHERE country_code = 'WLD' AND year = 1990;"
   ],
   "metadata": {
    "collapsed": false,
    "pycharm": {
     "name": "#%%\n"
    }
   }
  },
  {
   "cell_type": "markdown",
   "source": [
    "### 2. World Total Forest Area (sq. km) in 2016"
   ],
   "metadata": {
    "collapsed": false,
    "pycharm": {
     "name": "#%% md\n"
    }
   }
  },
  {
   "cell_type": "code",
   "execution_count": 3,
   "outputs": [
    {
     "name": "stdout",
     "output_type": "stream",
     "text": [
      "Query started at 04:35:56 AM EET; Query executed in 0.00 m"
     ]
    },
    {
     "data": {
      "text/plain": "   forest_area_sqkm\n0        39958245.9",
      "text/html": "<div>\n<style scoped>\n    .dataframe tbody tr th:only-of-type {\n        vertical-align: middle;\n    }\n\n    .dataframe tbody tr th {\n        vertical-align: top;\n    }\n\n    .dataframe thead th {\n        text-align: right;\n    }\n</style>\n<table border=\"1\" class=\"dataframe\">\n  <thead>\n    <tr style=\"text-align: right;\">\n      <th></th>\n      <th>forest_area_sqkm</th>\n    </tr>\n  </thead>\n  <tbody>\n    <tr>\n      <th>0</th>\n      <td>39958245.9</td>\n    </tr>\n  </tbody>\n</table>\n</div>"
     },
     "execution_count": 3,
     "metadata": {},
     "output_type": "execute_result"
    }
   ],
   "source": [
    "%%read_sql\n",
    "SELECT forest_area_sqkm\n",
    "FROM forestation\n",
    "WHERE country_code = 'WLD' AND year = 2016;"
   ],
   "metadata": {
    "collapsed": false,
    "pycharm": {
     "name": "#%%\n"
    }
   }
  },
  {
   "cell_type": "markdown",
   "source": [
    "### 3. World Forest Area Change [1990-2016] (sq. km)"
   ],
   "metadata": {
    "collapsed": false
   }
  },
  {
   "cell_type": "code",
   "execution_count": 4,
   "outputs": [
    {
     "name": "stdout",
     "output_type": "stream",
     "text": [
      "Query started at 04:35:56 AM EET; Query executed in 0.00 m"
     ]
    },
    {
     "data": {
      "text/plain": "   forest_area_change\n0          -1324449.0",
      "text/html": "<div>\n<style scoped>\n    .dataframe tbody tr th:only-of-type {\n        vertical-align: middle;\n    }\n\n    .dataframe tbody tr th {\n        vertical-align: top;\n    }\n\n    .dataframe thead th {\n        text-align: right;\n    }\n</style>\n<table border=\"1\" class=\"dataframe\">\n  <thead>\n    <tr style=\"text-align: right;\">\n      <th></th>\n      <th>forest_area_change</th>\n    </tr>\n  </thead>\n  <tbody>\n    <tr>\n      <th>0</th>\n      <td>-1324449.0</td>\n    </tr>\n  </tbody>\n</table>\n</div>"
     },
     "execution_count": 4,
     "metadata": {},
     "output_type": "execute_result"
    }
   ],
   "source": [
    "%%read_sql\n",
    "SELECT ROUND((SUM(forest_area_sqkm) FILTER ( WHERE year = 2016 )\n",
    "           - SUM(forest_area_sqkm) FILTER ( WHERE year = 1990 ))::numeric\n",
    "        , 2) forest_area_change\n",
    "FROM forestation\n",
    "WHERE country_code = 'WLD';"
   ],
   "metadata": {
    "collapsed": false,
    "pycharm": {
     "name": "#%%\n"
    }
   }
  },
  {
   "cell_type": "markdown",
   "source": [
    "### 4. World Forest Percentage Change [1990-2016]"
   ],
   "metadata": {
    "collapsed": false,
    "pycharm": {
     "name": "#%% md\n"
    }
   }
  },
  {
   "cell_type": "code",
   "execution_count": 5,
   "outputs": [
    {
     "name": "stdout",
     "output_type": "stream",
     "text": [
      "Query started at 04:35:56 AM EET; Query executed in 0.00 m"
     ]
    },
    {
     "data": {
      "text/plain": "   forest_pct_change\n0              -3.23",
      "text/html": "<div>\n<style scoped>\n    .dataframe tbody tr th:only-of-type {\n        vertical-align: middle;\n    }\n\n    .dataframe tbody tr th {\n        vertical-align: top;\n    }\n\n    .dataframe thead th {\n        text-align: right;\n    }\n</style>\n<table border=\"1\" class=\"dataframe\">\n  <thead>\n    <tr style=\"text-align: right;\">\n      <th></th>\n      <th>forest_pct_change</th>\n    </tr>\n  </thead>\n  <tbody>\n    <tr>\n      <th>0</th>\n      <td>-3.23</td>\n    </tr>\n  </tbody>\n</table>\n</div>"
     },
     "execution_count": 5,
     "metadata": {},
     "output_type": "execute_result"
    }
   ],
   "source": [
    "%%read_sql\n",
    "SELECT ROUND((100 * (f_2016.forest_percentage - f_1990.forest_percentage)\n",
    "           / f_1990.forest_percentage)::numeric, 2) AS forest_pct_change\n",
    "FROM (SELECT country_code, forest_percentage\n",
    "      FROM forestation\n",
    "      WHERE year = 1990 AND\n",
    "            country_code = 'WLD') f_1990\n",
    "JOIN (SELECT country_code, forest_percentage\n",
    "      FROM forestation\n",
    "      WHERE year = 2016 AND\n",
    "            country_code = 'WLD') f_2016\n",
    "ON f_1990.country_code = f_2016.country_code;"
   ],
   "metadata": {
    "collapsed": false,
    "pycharm": {
     "name": "#%%\n"
    }
   }
  },
  {
   "cell_type": "markdown",
   "source": [
    "### 5. Most Forest Area Lost Comparing to the Entire World (sq. km)"
   ],
   "metadata": {
    "collapsed": false,
    "pycharm": {
     "name": "#%% md\n"
    }
   }
  },
  {
   "cell_type": "code",
   "execution_count": 6,
   "outputs": [
    {
     "name": "stdout",
     "output_type": "stream",
     "text": [
      "Query started at 04:35:56 AM EET; Query executed in 0.00 m"
     ]
    },
    {
     "data": {
      "text/plain": "  country_code country_name  total_area_sqkm\n0          PER         Peru       1279999.99",
      "text/html": "<div>\n<style scoped>\n    .dataframe tbody tr th:only-of-type {\n        vertical-align: middle;\n    }\n\n    .dataframe tbody tr th {\n        vertical-align: top;\n    }\n\n    .dataframe thead th {\n        text-align: right;\n    }\n</style>\n<table border=\"1\" class=\"dataframe\">\n  <thead>\n    <tr style=\"text-align: right;\">\n      <th></th>\n      <th>country_code</th>\n      <th>country_name</th>\n      <th>total_area_sqkm</th>\n    </tr>\n  </thead>\n  <tbody>\n    <tr>\n      <th>0</th>\n      <td>PER</td>\n      <td>Peru</td>\n      <td>1279999.99</td>\n    </tr>\n  </tbody>\n</table>\n</div>"
     },
     "execution_count": 6,
     "metadata": {},
     "output_type": "execute_result"
    }
   ],
   "source": [
    "%%read_sql\n",
    "WITH forest_area_delta AS (\n",
    "  SELECT SUM(forest_area_sqkm) FILTER ( WHERE year = 2016 )\n",
    "             - SUM(forest_area_sqkm) FILTER ( WHERE year = 1990 ) AS value\n",
    "  FROM forestation\n",
    "  WHERE country_code = 'WLD'\n",
    ")\n",
    "\n",
    "SELECT country_code,\n",
    "       country_name,\n",
    "       ROUND(total_area_sqkm::numeric, 2) total_area_sqkm\n",
    "FROM forestation\n",
    "WHERE year = 2016 AND\n",
    "      ABS(total_area_sqkm - (SELECT ABS(value) FROM forest_area_delta))\n",
    "          = (SELECT MIN(ABS(total_area_sqkm - (SELECT ABS(value)\n",
    "                                               FROM forest_area_delta)))\n",
    "             FROM forestation);"
   ],
   "metadata": {
    "collapsed": false,
    "pycharm": {
     "name": "#%%\n"
    }
   }
  },
  {
   "cell_type": "markdown",
   "source": [
    "## Regional Outlook\n",
    "1. What was the percent forest of the entire world in 2016? Which region had the HIGHEST percent forest in 2016, and which had the LOWEST?\n",
    "2. What was the percent forest of the entire world in 1990? Which region had the HIGHEST percent forest in 1990, and which had the LOWEST?\n",
    "3. Based on the table you created, which regions of the world DECREASED in forest area from 1990 to 2016?\n",
    "\n",
    "### 6. Forest Percentage of Entire World in 2016"
   ],
   "metadata": {
    "collapsed": false,
    "pycharm": {
     "name": "#%% md\n"
    }
   }
  },
  {
   "cell_type": "code",
   "execution_count": 7,
   "outputs": [
    {
     "name": "stdout",
     "output_type": "stream",
     "text": [
      "Query started at 04:35:56 AM EET; Query executed in 0.00 m"
     ]
    },
    {
     "data": {
      "text/plain": "  region  forest_percentage\n0  World              31.38",
      "text/html": "<div>\n<style scoped>\n    .dataframe tbody tr th:only-of-type {\n        vertical-align: middle;\n    }\n\n    .dataframe tbody tr th {\n        vertical-align: top;\n    }\n\n    .dataframe thead th {\n        text-align: right;\n    }\n</style>\n<table border=\"1\" class=\"dataframe\">\n  <thead>\n    <tr style=\"text-align: right;\">\n      <th></th>\n      <th>region</th>\n      <th>forest_percentage</th>\n    </tr>\n  </thead>\n  <tbody>\n    <tr>\n      <th>0</th>\n      <td>World</td>\n      <td>31.38</td>\n    </tr>\n  </tbody>\n</table>\n</div>"
     },
     "execution_count": 7,
     "metadata": {},
     "output_type": "execute_result"
    }
   ],
   "source": [
    "%%read_sql\n",
    "SELECT country_name region,\n",
    "       ROUND(forest_percentage::numeric, 2) AS forest_percentage\n",
    "FROM forestation\n",
    "WHERE year = 2016 AND\n",
    "      country_code = 'WLD';"
   ],
   "metadata": {
    "collapsed": false,
    "pycharm": {
     "name": "#%%\n"
    }
   }
  },
  {
   "cell_type": "markdown",
   "source": [
    "### 7. Region with Highest Relative Forestation in 2016"
   ],
   "metadata": {
    "collapsed": false
   }
  },
  {
   "cell_type": "code",
   "execution_count": 8,
   "outputs": [
    {
     "name": "stdout",
     "output_type": "stream",
     "text": [
      "Query started at 04:35:56 AM EET; Query executed in 0.00 m"
     ]
    },
    {
     "data": {
      "text/plain": "                      region  forest_percentage\n0  Latin America & Caribbean              46.16",
      "text/html": "<div>\n<style scoped>\n    .dataframe tbody tr th:only-of-type {\n        vertical-align: middle;\n    }\n\n    .dataframe tbody tr th {\n        vertical-align: top;\n    }\n\n    .dataframe thead th {\n        text-align: right;\n    }\n</style>\n<table border=\"1\" class=\"dataframe\">\n  <thead>\n    <tr style=\"text-align: right;\">\n      <th></th>\n      <th>region</th>\n      <th>forest_percentage</th>\n    </tr>\n  </thead>\n  <tbody>\n    <tr>\n      <th>0</th>\n      <td>Latin America &amp; Caribbean</td>\n      <td>46.16</td>\n    </tr>\n  </tbody>\n</table>\n</div>"
     },
     "execution_count": 8,
     "metadata": {},
     "output_type": "execute_result"
    }
   ],
   "source": [
    "%%read_sql\n",
    "SELECT region,\n",
    "       ROUND((SUM(forest_area_sqkm)\n",
    "             / SUM(total_area_sqkm) * 100)::numeric, 2) AS forest_percentage\n",
    "FROM forestation\n",
    "WHERE year = 2016\n",
    "GROUP BY region\n",
    "HAVING SUM(forest_area_sqkm) / SUM(total_area_sqkm)\n",
    "    = (SELECT MAX(forest_ratio)\n",
    "       FROM (SELECT SUM(forest_area_sqkm) / SUM(total_area_sqkm) AS forest_ratio\n",
    "             FROM forestation\n",
    "             WHERE year = 2016\n",
    "             GROUP BY region) t);"
   ],
   "metadata": {
    "collapsed": false,
    "pycharm": {
     "name": "#%%\n"
    }
   }
  },
  {
   "cell_type": "markdown",
   "source": [
    "### 8. Region with Lowest Relative Forestation in 2016"
   ],
   "metadata": {
    "collapsed": false
   }
  },
  {
   "cell_type": "code",
   "execution_count": 9,
   "outputs": [
    {
     "name": "stdout",
     "output_type": "stream",
     "text": [
      "Query started at 04:35:56 AM EET; Query executed in 0.00 m"
     ]
    },
    {
     "data": {
      "text/plain": "                       region  forest_percentage\n0  Middle East & North Africa               2.07",
      "text/html": "<div>\n<style scoped>\n    .dataframe tbody tr th:only-of-type {\n        vertical-align: middle;\n    }\n\n    .dataframe tbody tr th {\n        vertical-align: top;\n    }\n\n    .dataframe thead th {\n        text-align: right;\n    }\n</style>\n<table border=\"1\" class=\"dataframe\">\n  <thead>\n    <tr style=\"text-align: right;\">\n      <th></th>\n      <th>region</th>\n      <th>forest_percentage</th>\n    </tr>\n  </thead>\n  <tbody>\n    <tr>\n      <th>0</th>\n      <td>Middle East &amp; North Africa</td>\n      <td>2.07</td>\n    </tr>\n  </tbody>\n</table>\n</div>"
     },
     "execution_count": 9,
     "metadata": {},
     "output_type": "execute_result"
    }
   ],
   "source": [
    "%%read_sql\n",
    "SELECT region,\n",
    "       ROUND((SUM(forest_area_sqkm)\n",
    "             / SUM(total_area_sqkm) * 100)::numeric, 2) AS forest_percentage\n",
    "FROM forestation\n",
    "WHERE year = 2016\n",
    "GROUP BY region\n",
    "HAVING SUM(forest_area_sqkm) / SUM(total_area_sqkm)\n",
    "    = (SELECT MIN(forest_ratio)\n",
    "       FROM (SELECT SUM(forest_area_sqkm) / SUM(total_area_sqkm) AS forest_ratio\n",
    "             FROM forestation\n",
    "             WHERE year = 2016\n",
    "             GROUP BY region) t);"
   ],
   "metadata": {
    "collapsed": false,
    "pycharm": {
     "name": "#%%\n"
    }
   }
  },
  {
   "cell_type": "markdown",
   "source": [
    "### 9. Forest Percentage of Entire World in 1990"
   ],
   "metadata": {
    "collapsed": false,
    "pycharm": {
     "name": "#%% md\n"
    }
   }
  },
  {
   "cell_type": "code",
   "execution_count": 10,
   "outputs": [
    {
     "name": "stdout",
     "output_type": "stream",
     "text": [
      "Query started at 04:35:56 AM EET; Query executed in 0.00 m"
     ]
    },
    {
     "data": {
      "text/plain": "  region  forest_percentage\n0  World              32.42",
      "text/html": "<div>\n<style scoped>\n    .dataframe tbody tr th:only-of-type {\n        vertical-align: middle;\n    }\n\n    .dataframe tbody tr th {\n        vertical-align: top;\n    }\n\n    .dataframe thead th {\n        text-align: right;\n    }\n</style>\n<table border=\"1\" class=\"dataframe\">\n  <thead>\n    <tr style=\"text-align: right;\">\n      <th></th>\n      <th>region</th>\n      <th>forest_percentage</th>\n    </tr>\n  </thead>\n  <tbody>\n    <tr>\n      <th>0</th>\n      <td>World</td>\n      <td>32.42</td>\n    </tr>\n  </tbody>\n</table>\n</div>"
     },
     "execution_count": 10,
     "metadata": {},
     "output_type": "execute_result"
    }
   ],
   "source": [
    "%%read_sql\n",
    "SELECT country_name region,\n",
    "       ROUND(forest_percentage::numeric, 2) AS forest_percentage\n",
    "FROM forestation\n",
    "WHERE year = 1990 AND\n",
    "      country_code = 'WLD';"
   ],
   "metadata": {
    "collapsed": false,
    "pycharm": {
     "name": "#%%\n"
    }
   }
  },
  {
   "cell_type": "markdown",
   "source": [
    "### 10. Region with Highest Relative Forestation in 1990"
   ],
   "metadata": {
    "collapsed": false,
    "pycharm": {
     "name": "#%% md\n"
    }
   }
  },
  {
   "cell_type": "code",
   "execution_count": 11,
   "outputs": [
    {
     "name": "stdout",
     "output_type": "stream",
     "text": [
      "Query started at 04:35:56 AM EET; Query executed in 0.00 m"
     ]
    },
    {
     "data": {
      "text/plain": "                      region  forest_percentage\n0  Latin America & Caribbean              51.03",
      "text/html": "<div>\n<style scoped>\n    .dataframe tbody tr th:only-of-type {\n        vertical-align: middle;\n    }\n\n    .dataframe tbody tr th {\n        vertical-align: top;\n    }\n\n    .dataframe thead th {\n        text-align: right;\n    }\n</style>\n<table border=\"1\" class=\"dataframe\">\n  <thead>\n    <tr style=\"text-align: right;\">\n      <th></th>\n      <th>region</th>\n      <th>forest_percentage</th>\n    </tr>\n  </thead>\n  <tbody>\n    <tr>\n      <th>0</th>\n      <td>Latin America &amp; Caribbean</td>\n      <td>51.03</td>\n    </tr>\n  </tbody>\n</table>\n</div>"
     },
     "execution_count": 11,
     "metadata": {},
     "output_type": "execute_result"
    }
   ],
   "source": [
    "%%read_sql\n",
    "SELECT region,\n",
    "       ROUND((SUM(forest_area_sqkm)\n",
    "             / SUM(total_area_sqkm) * 100)::numeric, 2) AS forest_percentage\n",
    "FROM forestation\n",
    "WHERE year = 1990\n",
    "GROUP BY region\n",
    "HAVING SUM(forest_area_sqkm) / SUM(total_area_sqkm)\n",
    "    = (SELECT MAX(forest_ratio)\n",
    "       FROM (SELECT SUM(forest_area_sqkm) / SUM(total_area_sqkm) AS forest_ratio\n",
    "             FROM forestation\n",
    "             WHERE year = 1990\n",
    "             GROUP BY region) t);"
   ],
   "metadata": {
    "collapsed": false,
    "pycharm": {
     "name": "#%%\n"
    }
   }
  },
  {
   "cell_type": "markdown",
   "source": [
    "### 11. Region with Lowest Relative Forestation in 1990"
   ],
   "metadata": {
    "collapsed": false
   }
  },
  {
   "cell_type": "code",
   "execution_count": 12,
   "outputs": [
    {
     "name": "stdout",
     "output_type": "stream",
     "text": [
      "Query started at 04:35:56 AM EET; Query executed in 0.00 m"
     ]
    },
    {
     "data": {
      "text/plain": "                       region  forest_percentage\n0  Middle East & North Africa               1.78",
      "text/html": "<div>\n<style scoped>\n    .dataframe tbody tr th:only-of-type {\n        vertical-align: middle;\n    }\n\n    .dataframe tbody tr th {\n        vertical-align: top;\n    }\n\n    .dataframe thead th {\n        text-align: right;\n    }\n</style>\n<table border=\"1\" class=\"dataframe\">\n  <thead>\n    <tr style=\"text-align: right;\">\n      <th></th>\n      <th>region</th>\n      <th>forest_percentage</th>\n    </tr>\n  </thead>\n  <tbody>\n    <tr>\n      <th>0</th>\n      <td>Middle East &amp; North Africa</td>\n      <td>1.78</td>\n    </tr>\n  </tbody>\n</table>\n</div>"
     },
     "execution_count": 12,
     "metadata": {},
     "output_type": "execute_result"
    }
   ],
   "source": [
    "%%read_sql\n",
    "SELECT region,\n",
    "       ROUND((SUM(forest_area_sqkm)\n",
    "             / SUM(total_area_sqkm) * 100)::numeric, 2) AS forest_percentage\n",
    "FROM forestation\n",
    "WHERE year = 1990\n",
    "GROUP BY region\n",
    "HAVING SUM(forest_area_sqkm) / SUM(total_area_sqkm)\n",
    "    = (SELECT MIN(forest_ratio)\n",
    "       FROM (SELECT SUM(forest_area_sqkm) / SUM(total_area_sqkm) AS forest_ratio\n",
    "             FROM forestation\n",
    "             WHERE year = 1990\n",
    "             GROUP BY region) t);"
   ],
   "metadata": {
    "collapsed": false,
    "pycharm": {
     "name": "#%%\n"
    }
   }
  },
  {
   "cell_type": "markdown",
   "source": [
    "### 12. Percent Forest Area by Region, 1990 & 2016"
   ],
   "metadata": {
    "collapsed": false
   }
  },
  {
   "cell_type": "code",
   "execution_count": 13,
   "outputs": [
    {
     "name": "stdout",
     "output_type": "stream",
     "text": [
      "Query started at 04:35:56 AM EET; Query executed in 0.00 m"
     ]
    },
    {
     "data": {
      "text/plain": "                       region  forest_pct_1990  forest_pct_2016\n0  Middle East & North Africa             1.78             2.07\n1                  South Asia            16.51            17.51\n2         East Asia & Pacific            25.78            26.36\n3       Europe & Central Asia            37.28            38.04\n4               North America            35.65            36.04\n5                       World            32.42            31.38\n6          Sub-Saharan Africa            30.67            28.79\n7   Latin America & Caribbean            51.03            46.16",
      "text/html": "<div>\n<style scoped>\n    .dataframe tbody tr th:only-of-type {\n        vertical-align: middle;\n    }\n\n    .dataframe tbody tr th {\n        vertical-align: top;\n    }\n\n    .dataframe thead th {\n        text-align: right;\n    }\n</style>\n<table border=\"1\" class=\"dataframe\">\n  <thead>\n    <tr style=\"text-align: right;\">\n      <th></th>\n      <th>region</th>\n      <th>forest_pct_1990</th>\n      <th>forest_pct_2016</th>\n    </tr>\n  </thead>\n  <tbody>\n    <tr>\n      <th>0</th>\n      <td>Middle East &amp; North Africa</td>\n      <td>1.78</td>\n      <td>2.07</td>\n    </tr>\n    <tr>\n      <th>1</th>\n      <td>South Asia</td>\n      <td>16.51</td>\n      <td>17.51</td>\n    </tr>\n    <tr>\n      <th>2</th>\n      <td>East Asia &amp; Pacific</td>\n      <td>25.78</td>\n      <td>26.36</td>\n    </tr>\n    <tr>\n      <th>3</th>\n      <td>Europe &amp; Central Asia</td>\n      <td>37.28</td>\n      <td>38.04</td>\n    </tr>\n    <tr>\n      <th>4</th>\n      <td>North America</td>\n      <td>35.65</td>\n      <td>36.04</td>\n    </tr>\n    <tr>\n      <th>5</th>\n      <td>World</td>\n      <td>32.42</td>\n      <td>31.38</td>\n    </tr>\n    <tr>\n      <th>6</th>\n      <td>Sub-Saharan Africa</td>\n      <td>30.67</td>\n      <td>28.79</td>\n    </tr>\n    <tr>\n      <th>7</th>\n      <td>Latin America &amp; Caribbean</td>\n      <td>51.03</td>\n      <td>46.16</td>\n    </tr>\n  </tbody>\n</table>\n</div>"
     },
     "execution_count": 13,
     "metadata": {},
     "output_type": "execute_result"
    }
   ],
   "source": [
    "%%read_sql\n",
    "SELECT region, forest_pct_1990, forest_pct_2016\n",
    "FROM (SELECT region,\n",
    "             ROUND((100 * SUM(forest_area_sqkm) FILTER ( WHERE year = 1990 )\n",
    "                       / SUM(total_area_sqkm) FILTER ( WHERE year = 1990 ))::numeric\n",
    "                       , 2) AS forest_pct_1990,\n",
    "             ROUND((100 * SUM(forest_area_sqkm) FILTER ( WHERE year = 2016 )\n",
    "                       / SUM(total_area_sqkm) FILTER ( WHERE year = 2016 ))::numeric\n",
    "                       , 2) AS forest_pct_2016\n",
    "      FROM forestation\n",
    "      GROUP BY region) t\n",
    "ORDER BY (forest_pct_2016 - forest_pct_1990) / forest_pct_1990 DESC;"
   ],
   "metadata": {
    "collapsed": false,
    "pycharm": {
     "name": "#%%\n"
    }
   }
  },
  {
   "cell_type": "markdown",
   "source": [
    "## Country-Level Detail\n",
    "1. Which 5 countries saw the largest amount decrease in forest area from 1990 to 2016? What was the difference in forest area for each?\n",
    "2. Which 5 countries saw the largest percent decrease in forest area from 1990 to 2016? What was the percent change to 2 decimal places for each?\n",
    "3. If countries were grouped by percent forestation in quartiles, which group had the most countries in it in 2016?\n",
    "4. List all of the countries that were in the 4th quartile (percent forest > 75%) in 2016.\n",
    "5. How many countries had a percent forestation higher than the United States in 2016?\n",
    "\n",
    "### 13. Countries with Largest Increase in Forest Area [1990-2016]"
   ],
   "metadata": {
    "collapsed": false
   }
  },
  {
   "cell_type": "code",
   "execution_count": 14,
   "outputs": [
    {
     "name": "stdout",
     "output_type": "stream",
     "text": [
      "Query started at 04:35:56 AM EET; Query executed in 0.00 m"
     ]
    },
    {
     "data": {
      "text/plain": "         country_name                 region  forest_area_increase\n0               China    East Asia & Pacific             527229.06\n1       United States          North America              79200.00\n2               India             South Asia              69213.98\n3  Russian Federation  Europe & Central Asia              59395.00\n4             Vietnam    East Asia & Pacific              55390.00",
      "text/html": "<div>\n<style scoped>\n    .dataframe tbody tr th:only-of-type {\n        vertical-align: middle;\n    }\n\n    .dataframe tbody tr th {\n        vertical-align: top;\n    }\n\n    .dataframe thead th {\n        text-align: right;\n    }\n</style>\n<table border=\"1\" class=\"dataframe\">\n  <thead>\n    <tr style=\"text-align: right;\">\n      <th></th>\n      <th>country_name</th>\n      <th>region</th>\n      <th>forest_area_increase</th>\n    </tr>\n  </thead>\n  <tbody>\n    <tr>\n      <th>0</th>\n      <td>China</td>\n      <td>East Asia &amp; Pacific</td>\n      <td>527229.06</td>\n    </tr>\n    <tr>\n      <th>1</th>\n      <td>United States</td>\n      <td>North America</td>\n      <td>79200.00</td>\n    </tr>\n    <tr>\n      <th>2</th>\n      <td>India</td>\n      <td>South Asia</td>\n      <td>69213.98</td>\n    </tr>\n    <tr>\n      <th>3</th>\n      <td>Russian Federation</td>\n      <td>Europe &amp; Central Asia</td>\n      <td>59395.00</td>\n    </tr>\n    <tr>\n      <th>4</th>\n      <td>Vietnam</td>\n      <td>East Asia &amp; Pacific</td>\n      <td>55390.00</td>\n    </tr>\n  </tbody>\n</table>\n</div>"
     },
     "execution_count": 14,
     "metadata": {},
     "output_type": "execute_result"
    }
   ],
   "source": [
    "%%read_sql\n",
    "SELECT f_1990.country_name,\n",
    "       f_1990.region,\n",
    "       ROUND((f_2016.forest_area_sqkm - f_1990.forest_area_sqkm)::numeric, 2) AS forest_area_increase\n",
    "FROM (SELECT country_code, country_name, region, forest_area_sqkm\n",
    "      FROM forestation\n",
    "      WHERE year = 1990 AND\n",
    "            country_code <> 'WLD' AND\n",
    "            COALESCE(forest_area_sqkm, 0) <> 0) f_1990\n",
    "JOIN (SELECT country_code, country_name, region, forest_area_sqkm\n",
    "      FROM forestation\n",
    "      WHERE year = 2016 AND\n",
    "            country_code <> 'WLD' AND\n",
    "            COALESCE(forest_area_sqkm, 0) <> 0) f_2016\n",
    "ON f_1990.country_code = f_2016.country_code AND\n",
    "   f_2016.forest_area_sqkm > f_1990.forest_area_sqkm\n",
    "ORDER BY forest_area_increase DESC\n",
    "LIMIT 5;"
   ],
   "metadata": {
    "collapsed": false,
    "pycharm": {
     "name": "#%%\n"
    }
   }
  },
  {
   "cell_type": "markdown",
   "source": [
    "### 14. Largest Countries in terms of Total Land Area [2016]"
   ],
   "metadata": {
    "collapsed": false,
    "pycharm": {
     "name": "#%% md\n"
    }
   }
  },
  {
   "cell_type": "code",
   "execution_count": 15,
   "outputs": [
    {
     "name": "stdout",
     "output_type": "stream",
     "text": [
      "Query started at 04:35:56 AM EET; Query executed in 0.00 m"
     ]
    },
    {
     "data": {
      "text/plain": "         country_name  total_area_sqkm\n0  Russian Federation      16376870.00\n1               China       9388210.01",
      "text/html": "<div>\n<style scoped>\n    .dataframe tbody tr th:only-of-type {\n        vertical-align: middle;\n    }\n\n    .dataframe tbody tr th {\n        vertical-align: top;\n    }\n\n    .dataframe thead th {\n        text-align: right;\n    }\n</style>\n<table border=\"1\" class=\"dataframe\">\n  <thead>\n    <tr style=\"text-align: right;\">\n      <th></th>\n      <th>country_name</th>\n      <th>total_area_sqkm</th>\n    </tr>\n  </thead>\n  <tbody>\n    <tr>\n      <th>0</th>\n      <td>Russian Federation</td>\n      <td>16376870.00</td>\n    </tr>\n    <tr>\n      <th>1</th>\n      <td>China</td>\n      <td>9388210.01</td>\n    </tr>\n  </tbody>\n</table>\n</div>"
     },
     "execution_count": 15,
     "metadata": {},
     "output_type": "execute_result"
    }
   ],
   "source": [
    "%%read_sql\n",
    "SELECT country_name, ROUND(total_area_sqkm::numeric, 2) AS total_area_sqkm\n",
    "FROM forestation\n",
    "WHERE year = 2016 AND\n",
    "      country_code <> 'WLD' AND\n",
    "      total_area_sqkm IS NOT NULL\n",
    "ORDER BY total_area_sqkm DESC\n",
    "LIMIT 2;"
   ],
   "metadata": {
    "collapsed": false,
    "pycharm": {
     "name": "#%%\n"
    }
   }
  },
  {
   "cell_type": "markdown",
   "source": [
    "### 15. Countries with Largest Forest Percentage Increase [1990-2016]"
   ],
   "metadata": {
    "collapsed": false
   }
  },
  {
   "cell_type": "code",
   "execution_count": 16,
   "outputs": [
    {
     "name": "stdout",
     "output_type": "stream",
     "text": [
      "Query started at 04:35:56 AM EET; Query executed in 0.00 m"
     ]
    },
    {
     "data": {
      "text/plain": "         country_name                      region  total_area_sqkm  \\\n0             Iceland       Europe & Central Asia        100249.99   \n1    French Polynesia         East Asia & Pacific          3660.01   \n2             Bahrain  Middle East & North Africa           690.00   \n3             Uruguay   Latin America & Caribbean        175020.00   \n4  Dominican Republic   Latin America & Caribbean         48310.00   \n\n   forest_pct_change  \n0             213.66  \n1             181.82  \n2             145.91  \n3             134.11  \n4              82.46  ",
      "text/html": "<div>\n<style scoped>\n    .dataframe tbody tr th:only-of-type {\n        vertical-align: middle;\n    }\n\n    .dataframe tbody tr th {\n        vertical-align: top;\n    }\n\n    .dataframe thead th {\n        text-align: right;\n    }\n</style>\n<table border=\"1\" class=\"dataframe\">\n  <thead>\n    <tr style=\"text-align: right;\">\n      <th></th>\n      <th>country_name</th>\n      <th>region</th>\n      <th>total_area_sqkm</th>\n      <th>forest_pct_change</th>\n    </tr>\n  </thead>\n  <tbody>\n    <tr>\n      <th>0</th>\n      <td>Iceland</td>\n      <td>Europe &amp; Central Asia</td>\n      <td>100249.99</td>\n      <td>213.66</td>\n    </tr>\n    <tr>\n      <th>1</th>\n      <td>French Polynesia</td>\n      <td>East Asia &amp; Pacific</td>\n      <td>3660.01</td>\n      <td>181.82</td>\n    </tr>\n    <tr>\n      <th>2</th>\n      <td>Bahrain</td>\n      <td>Middle East &amp; North Africa</td>\n      <td>690.00</td>\n      <td>145.91</td>\n    </tr>\n    <tr>\n      <th>3</th>\n      <td>Uruguay</td>\n      <td>Latin America &amp; Caribbean</td>\n      <td>175020.00</td>\n      <td>134.11</td>\n    </tr>\n    <tr>\n      <th>4</th>\n      <td>Dominican Republic</td>\n      <td>Latin America &amp; Caribbean</td>\n      <td>48310.00</td>\n      <td>82.46</td>\n    </tr>\n  </tbody>\n</table>\n</div>"
     },
     "execution_count": 16,
     "metadata": {},
     "output_type": "execute_result"
    }
   ],
   "source": [
    "%%read_sql\n",
    "SELECT f_1990.country_name,\n",
    "       f_1990.region,\n",
    "       ROUND(f_1990.total_area_sqkm::numeric, 2) AS total_area_sqkm,\n",
    "       ROUND((100 * (f_2016.forest_percentage - f_1990.forest_percentage)\n",
    "             / f_1990.forest_percentage)::numeric, 2) AS forest_pct_change\n",
    "FROM (SELECT country_code, country_name, region, total_area_sqkm, forest_percentage\n",
    "      FROM forestation\n",
    "      WHERE year = 1990 AND\n",
    "            country_code <> 'WLD' AND\n",
    "            COALESCE(forest_percentage, 0) <> 0) f_1990\n",
    "JOIN (SELECT country_code, country_name, region, total_area_sqkm, forest_percentage\n",
    "      FROM forestation\n",
    "      WHERE year = 2016 AND\n",
    "            country_code <> 'WLD' AND\n",
    "            COALESCE(forest_percentage, 0) <> 0) f_2016\n",
    "ON f_1990.country_code = f_2016.country_code\n",
    "ORDER BY forest_pct_change DESC\n",
    "LIMIT 5;"
   ],
   "metadata": {
    "collapsed": false,
    "pycharm": {
     "name": "#%%\n"
    }
   }
  },
  {
   "cell_type": "markdown",
   "source": [
    "### 16. Countries with Largest Forest Area Decrease [1990-2016]"
   ],
   "metadata": {
    "collapsed": false,
    "pycharm": {
     "name": "#%% md\n"
    }
   }
  },
  {
   "cell_type": "code",
   "execution_count": 17,
   "outputs": [
    {
     "name": "stdout",
     "output_type": "stream",
     "text": [
      "Query started at 04:35:56 AM EET; Query executed in 0.00 m"
     ]
    },
    {
     "data": {
      "text/plain": "  country_name                     region  forest_amount_delta\n0       Brazil  Latin America & Caribbean            541510.00\n1    Indonesia        East Asia & Pacific            282193.98\n2      Myanmar        East Asia & Pacific            107234.00\n3      Nigeria         Sub-Saharan Africa            106506.00\n4     Tanzania         Sub-Saharan Africa            102320.00",
      "text/html": "<div>\n<style scoped>\n    .dataframe tbody tr th:only-of-type {\n        vertical-align: middle;\n    }\n\n    .dataframe tbody tr th {\n        vertical-align: top;\n    }\n\n    .dataframe thead th {\n        text-align: right;\n    }\n</style>\n<table border=\"1\" class=\"dataframe\">\n  <thead>\n    <tr style=\"text-align: right;\">\n      <th></th>\n      <th>country_name</th>\n      <th>region</th>\n      <th>forest_amount_delta</th>\n    </tr>\n  </thead>\n  <tbody>\n    <tr>\n      <th>0</th>\n      <td>Brazil</td>\n      <td>Latin America &amp; Caribbean</td>\n      <td>541510.00</td>\n    </tr>\n    <tr>\n      <th>1</th>\n      <td>Indonesia</td>\n      <td>East Asia &amp; Pacific</td>\n      <td>282193.98</td>\n    </tr>\n    <tr>\n      <th>2</th>\n      <td>Myanmar</td>\n      <td>East Asia &amp; Pacific</td>\n      <td>107234.00</td>\n    </tr>\n    <tr>\n      <th>3</th>\n      <td>Nigeria</td>\n      <td>Sub-Saharan Africa</td>\n      <td>106506.00</td>\n    </tr>\n    <tr>\n      <th>4</th>\n      <td>Tanzania</td>\n      <td>Sub-Saharan Africa</td>\n      <td>102320.00</td>\n    </tr>\n  </tbody>\n</table>\n</div>"
     },
     "execution_count": 17,
     "metadata": {},
     "output_type": "execute_result"
    }
   ],
   "source": [
    "%%read_sql\n",
    "SELECT f_1990.country_name,\n",
    "       f_1990.region,\n",
    "       ROUND(ABS(f_2016.forest_area_sqkm - f_1990.forest_area_sqkm)::numeric\n",
    "             , 2) forest_amount_delta\n",
    "FROM (SELECT country_code, country_name, region, forest_area_sqkm\n",
    "      FROM forestation\n",
    "      WHERE year = 1990 AND\n",
    "            country_code <> 'WLD' AND\n",
    "            COALESCE(forest_area_sqkm, 0) <> 0) f_1990\n",
    "JOIN (SELECT country_code, country_name, region, forest_area_sqkm\n",
    "      FROM forestation\n",
    "      WHERE year = 2016 AND\n",
    "            country_code <> 'WLD' AND\n",
    "            COALESCE(forest_area_sqkm, 0) <> 0) f_2016\n",
    "ON f_1990.country_code = f_2016.country_code\n",
    "ORDER BY f_2016.forest_area_sqkm - f_1990.forest_area_sqkm\n",
    "LIMIT 5;"
   ],
   "metadata": {
    "collapsed": false,
    "pycharm": {
     "name": "#%%\n"
    }
   }
  },
  {
   "cell_type": "markdown",
   "source": [
    "### 17. Countries with Largest Forest Percentage Decrease [1990-2016]"
   ],
   "metadata": {
    "collapsed": false,
    "pycharm": {
     "name": "#%% md\n"
    }
   }
  },
  {
   "cell_type": "code",
   "execution_count": 18,
   "outputs": [
    {
     "name": "stdout",
     "output_type": "stream",
     "text": [
      "Query started at 04:35:56 AM EET; Query executed in 0.00 m"
     ]
    },
    {
     "data": {
      "text/plain": "  country_name                     region  forest_area_change_pct\n0         Togo         Sub-Saharan Africa                  -75.45\n1      Nigeria         Sub-Saharan Africa                  -61.80\n2       Uganda         Sub-Saharan Africa                  -59.27\n3   Mauritania         Sub-Saharan Africa                  -46.75\n4     Honduras  Latin America & Caribbean                  -45.03",
      "text/html": "<div>\n<style scoped>\n    .dataframe tbody tr th:only-of-type {\n        vertical-align: middle;\n    }\n\n    .dataframe tbody tr th {\n        vertical-align: top;\n    }\n\n    .dataframe thead th {\n        text-align: right;\n    }\n</style>\n<table border=\"1\" class=\"dataframe\">\n  <thead>\n    <tr style=\"text-align: right;\">\n      <th></th>\n      <th>country_name</th>\n      <th>region</th>\n      <th>forest_area_change_pct</th>\n    </tr>\n  </thead>\n  <tbody>\n    <tr>\n      <th>0</th>\n      <td>Togo</td>\n      <td>Sub-Saharan Africa</td>\n      <td>-75.45</td>\n    </tr>\n    <tr>\n      <th>1</th>\n      <td>Nigeria</td>\n      <td>Sub-Saharan Africa</td>\n      <td>-61.80</td>\n    </tr>\n    <tr>\n      <th>2</th>\n      <td>Uganda</td>\n      <td>Sub-Saharan Africa</td>\n      <td>-59.27</td>\n    </tr>\n    <tr>\n      <th>3</th>\n      <td>Mauritania</td>\n      <td>Sub-Saharan Africa</td>\n      <td>-46.75</td>\n    </tr>\n    <tr>\n      <th>4</th>\n      <td>Honduras</td>\n      <td>Latin America &amp; Caribbean</td>\n      <td>-45.03</td>\n    </tr>\n  </tbody>\n</table>\n</div>"
     },
     "execution_count": 18,
     "metadata": {},
     "output_type": "execute_result"
    }
   ],
   "source": [
    "%%read_sql\n",
    "SELECT f_1990.country_name,\n",
    "       f_1990.region,\n",
    "       ROUND((100 * (f_2016.forest_percentage - f_1990.forest_percentage)\n",
    "             / f_1990.forest_percentage)::numeric, 2) forest_area_change_pct\n",
    "FROM (SELECT country_code, country_name, region, forest_percentage\n",
    "      FROM forestation\n",
    "      WHERE year = 1990 AND\n",
    "            country_code <> 'WLD' AND\n",
    "            COALESCE(forest_percentage, 0) <> 0) f_1990\n",
    "JOIN (SELECT *\n",
    "      FROM forestation\n",
    "      WHERE year = 2016 AND\n",
    "            country_code <> 'WLD' AND\n",
    "            COALESCE(forest_percentage, 0) <> 0) f_2016\n",
    "ON f_1990.country_code = f_2016.country_code\n",
    "ORDER BY forest_area_change_pct\n",
    "LIMIT 5;"
   ],
   "metadata": {
    "collapsed": false,
    "pycharm": {
     "name": "#%%\n"
    }
   }
  },
  {
   "cell_type": "markdown",
   "source": [
    "### 18. Count of Countries Grouped by Forestation Percent Quartiles, 2016"
   ],
   "metadata": {
    "collapsed": false,
    "pycharm": {
     "name": "#%% md\n"
    }
   }
  },
  {
   "cell_type": "code",
   "execution_count": 19,
   "outputs": [
    {
     "name": "stdout",
     "output_type": "stream",
     "text": [
      "Query started at 04:35:56 AM EET; Query executed in 0.00 m"
     ]
    },
    {
     "data": {
      "text/plain": "                    quartile  countries_count\n0     First Quartile (0-25%)               85\n1   Second Quartile (25-50%)               73\n2    Third Quartile (50-75%)               38\n3  Fourth Quartile (75-100%)                9",
      "text/html": "<div>\n<style scoped>\n    .dataframe tbody tr th:only-of-type {\n        vertical-align: middle;\n    }\n\n    .dataframe tbody tr th {\n        vertical-align: top;\n    }\n\n    .dataframe thead th {\n        text-align: right;\n    }\n</style>\n<table border=\"1\" class=\"dataframe\">\n  <thead>\n    <tr style=\"text-align: right;\">\n      <th></th>\n      <th>quartile</th>\n      <th>countries_count</th>\n    </tr>\n  </thead>\n  <tbody>\n    <tr>\n      <th>0</th>\n      <td>First Quartile (0-25%)</td>\n      <td>85</td>\n    </tr>\n    <tr>\n      <th>1</th>\n      <td>Second Quartile (25-50%)</td>\n      <td>73</td>\n    </tr>\n    <tr>\n      <th>2</th>\n      <td>Third Quartile (50-75%)</td>\n      <td>38</td>\n    </tr>\n    <tr>\n      <th>3</th>\n      <td>Fourth Quartile (75-100%)</td>\n      <td>9</td>\n    </tr>\n  </tbody>\n</table>\n</div>"
     },
     "execution_count": 19,
     "metadata": {},
     "output_type": "execute_result"
    }
   ],
   "source": [
    "%%read_sql\n",
    "SELECT CASE WHEN forest_percentage BETWEEN 0 AND 25 THEN 'First Quartile (0-25%)'\n",
    "            WHEN forest_percentage BETWEEN 25 AND 50 THEN 'Second Quartile (25-50%)'\n",
    "            WHEN forest_percentage BETWEEN 50 AND 75 THEN 'Third Quartile (50-75%)'\n",
    "            WHEN forest_percentage BETWEEN 75 AND 100 THEN 'Fourth Quartile (75-100%)'\n",
    "        END quartile,\n",
    "       COUNT(1) countries_count\n",
    "FROM forestation\n",
    "WHERE year = 2016 AND\n",
    "      forest_percentage <= 100\n",
    "GROUP BY 1\n",
    "ORDER BY 2 DESC;"
   ],
   "metadata": {
    "collapsed": false,
    "pycharm": {
     "name": "#%%\n"
    }
   }
  },
  {
   "cell_type": "markdown",
   "source": [
    "### 19. Top Quartile Countries, 2016"
   ],
   "metadata": {
    "collapsed": false,
    "pycharm": {
     "name": "#%% md\n"
    }
   }
  },
  {
   "cell_type": "code",
   "execution_count": 20,
   "outputs": [
    {
     "name": "stdout",
     "output_type": "stream",
     "text": [
      "Query started at 04:35:56 AM EET; Query executed in 0.00 m"
     ]
    },
    {
     "data": {
      "text/plain": "  country_code           country_name                     region  \\\n0          SUR               Suriname  Latin America & Caribbean   \n1          FSM  Micronesia, Fed. Sts.        East Asia & Pacific   \n2          GAB                  Gabon         Sub-Saharan Africa   \n3          SYC             Seychelles         Sub-Saharan Africa   \n4          PLW                  Palau        East Asia & Pacific   \n5          ASM         American Samoa        East Asia & Pacific   \n6          GUY                 Guyana  Latin America & Caribbean   \n7          LAO                Lao PDR        East Asia & Pacific   \n8          SLB        Solomon Islands        East Asia & Pacific   \n\n   forest_percentage  \n0              98.26  \n1              91.86  \n2              90.04  \n3              88.41  \n4              87.61  \n5              87.50  \n6              83.90  \n7              82.11  \n8              77.86  ",
      "text/html": "<div>\n<style scoped>\n    .dataframe tbody tr th:only-of-type {\n        vertical-align: middle;\n    }\n\n    .dataframe tbody tr th {\n        vertical-align: top;\n    }\n\n    .dataframe thead th {\n        text-align: right;\n    }\n</style>\n<table border=\"1\" class=\"dataframe\">\n  <thead>\n    <tr style=\"text-align: right;\">\n      <th></th>\n      <th>country_code</th>\n      <th>country_name</th>\n      <th>region</th>\n      <th>forest_percentage</th>\n    </tr>\n  </thead>\n  <tbody>\n    <tr>\n      <th>0</th>\n      <td>SUR</td>\n      <td>Suriname</td>\n      <td>Latin America &amp; Caribbean</td>\n      <td>98.26</td>\n    </tr>\n    <tr>\n      <th>1</th>\n      <td>FSM</td>\n      <td>Micronesia, Fed. Sts.</td>\n      <td>East Asia &amp; Pacific</td>\n      <td>91.86</td>\n    </tr>\n    <tr>\n      <th>2</th>\n      <td>GAB</td>\n      <td>Gabon</td>\n      <td>Sub-Saharan Africa</td>\n      <td>90.04</td>\n    </tr>\n    <tr>\n      <th>3</th>\n      <td>SYC</td>\n      <td>Seychelles</td>\n      <td>Sub-Saharan Africa</td>\n      <td>88.41</td>\n    </tr>\n    <tr>\n      <th>4</th>\n      <td>PLW</td>\n      <td>Palau</td>\n      <td>East Asia &amp; Pacific</td>\n      <td>87.61</td>\n    </tr>\n    <tr>\n      <th>5</th>\n      <td>ASM</td>\n      <td>American Samoa</td>\n      <td>East Asia &amp; Pacific</td>\n      <td>87.50</td>\n    </tr>\n    <tr>\n      <th>6</th>\n      <td>GUY</td>\n      <td>Guyana</td>\n      <td>Latin America &amp; Caribbean</td>\n      <td>83.90</td>\n    </tr>\n    <tr>\n      <th>7</th>\n      <td>LAO</td>\n      <td>Lao PDR</td>\n      <td>East Asia &amp; Pacific</td>\n      <td>82.11</td>\n    </tr>\n    <tr>\n      <th>8</th>\n      <td>SLB</td>\n      <td>Solomon Islands</td>\n      <td>East Asia &amp; Pacific</td>\n      <td>77.86</td>\n    </tr>\n  </tbody>\n</table>\n</div>"
     },
     "execution_count": 20,
     "metadata": {},
     "output_type": "execute_result"
    }
   ],
   "source": [
    "%%read_sql\n",
    "SELECT country_code, country_name, region,\n",
    "       ROUND(forest_percentage::numeric, 2) AS forest_percentage\n",
    "FROM forestation\n",
    "WHERE year = 2016 AND\n",
    "      ROUND(forest_percentage::numeric, 2) > 75\n",
    "ORDER BY 4 DESC;"
   ],
   "metadata": {
    "collapsed": false,
    "pycharm": {
     "name": "#%%\n"
    }
   }
  },
  {
   "cell_type": "markdown",
   "source": [
    "### 19. Countries Count Had Higher Forest Percentage than US, 2016"
   ],
   "metadata": {
    "collapsed": false,
    "pycharm": {
     "name": "#%% md\n"
    }
   }
  },
  {
   "cell_type": "code",
   "execution_count": 21,
   "outputs": [
    {
     "name": "stdout",
     "output_type": "stream",
     "text": [
      "Query started at 04:35:56 AM EET; Query executed in 0.00 m"
     ]
    },
    {
     "data": {
      "text/plain": "   count\n0     94",
      "text/html": "<div>\n<style scoped>\n    .dataframe tbody tr th:only-of-type {\n        vertical-align: middle;\n    }\n\n    .dataframe tbody tr th {\n        vertical-align: top;\n    }\n\n    .dataframe thead th {\n        text-align: right;\n    }\n</style>\n<table border=\"1\" class=\"dataframe\">\n  <thead>\n    <tr style=\"text-align: right;\">\n      <th></th>\n      <th>count</th>\n    </tr>\n  </thead>\n  <tbody>\n    <tr>\n      <th>0</th>\n      <td>94</td>\n    </tr>\n  </tbody>\n</table>\n</div>"
     },
     "execution_count": 21,
     "metadata": {},
     "output_type": "execute_result"
    }
   ],
   "source": [
    "%%read_sql\n",
    "SELECT COUNT(1)\n",
    "FROM forestation\n",
    "WHERE year = 2016 AND\n",
    "      forest_percentage > (SELECT forest_percentage FROM forestation WHERE country_code = 'USA' AND year = 2016);"
   ],
   "metadata": {
    "collapsed": false,
    "pycharm": {
     "name": "#%%\n"
    }
   }
  },
  {
   "cell_type": "code",
   "execution_count": 21,
   "outputs": [],
   "source": [
    "\n"
   ],
   "metadata": {
    "collapsed": false,
    "pycharm": {
     "name": "#%%\n"
    }
   }
  }
 ],
 "metadata": {
  "kernelspec": {
   "name": "python3",
   "language": "python",
   "display_name": "Python 3"
  },
  "language_info": {
   "codemirror_mode": {
    "name": "ipython",
    "version": 2
   },
   "file_extension": ".py",
   "mimetype": "text/x-python",
   "name": "python",
   "nbconvert_exporter": "python",
   "pygments_lexer": "ipython2",
   "version": "2.7.6"
  }
 },
 "nbformat": 4,
 "nbformat_minor": 0
}